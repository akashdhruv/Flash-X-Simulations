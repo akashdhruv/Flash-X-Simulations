{
 "cells": [
  {
   "cell_type": "code",
   "execution_count": 1,
   "id": "realistic-characteristic",
   "metadata": {},
   "outputs": [],
   "source": [
    "# Set project home\n",
    "PROJECT_HOME = \"/home/akash/jobs/channel-flow\""
   ]
  },
  {
   "cell_type": "code",
   "execution_count": 2,
   "id": "tough-subscription",
   "metadata": {},
   "outputs": [],
   "source": [
    "# Import standard libraries\n",
    "import os\n",
    "import itertools\n",
    "import numpy\n",
    "import matplotlib.pyplot as pyplot"
   ]
  },
  {
   "cell_type": "code",
   "execution_count": 3,
   "id": "naughty-antigua",
   "metadata": {},
   "outputs": [],
   "source": [
    "# Import boxkit library\n",
    "import boxkit"
   ]
  },
  {
   "cell_type": "code",
   "execution_count": 4,
   "id": "characteristic-teaching",
   "metadata": {},
   "outputs": [],
   "source": [
    "dataFileDict = {\n",
    "    \"Reference\" : PROJECT_HOME + os.sep + \"simulation/OutflowTest2D/reference/INS_Channel_Flow_hdf5_plt_cnt_0200\",\n",
    "    \"Outflow Buffer = 2.0\" : PROJECT_HOME + os.sep + \"simulation/OutflowTest2D/outflow/buffer20/INS_Channel_Flow_hdf5_plt_cnt_0200\"\n",
    "}"
   ]
  },
  {
   "cell_type": "code",
   "execution_count": 5,
   "id": "roman-battlefield",
   "metadata": {},
   "outputs": [],
   "source": [
    "def getDatasetDict(dataFileDict):\n",
    "    \"\"\"\n",
    "    Arguments\n",
    "    ---------\n",
    "    dataFileDict\n",
    "    \n",
    "    Returns\n",
    "    -------\n",
    "    dataDict\n",
    "    \"\"\"\n",
    "    dataDict = {}\n",
    "    \n",
    "    for dataKey, dataFile in dataFileDict.items():\n",
    "        dataDict.update({dataKey : boxkit.read_dataset(dataFile, source=\"flash\")})\n",
    "    \n",
    "    return dataDict"
   ]
  },
  {
   "cell_type": "code",
   "execution_count": 6,
   "id": "careful-jackson",
   "metadata": {},
   "outputs": [],
   "source": [
    "dataDict = getDatasetDict(dataFileDict)"
   ]
  },
  {
   "cell_type": "code",
   "execution_count": 7,
   "id": "committed-scene",
   "metadata": {},
   "outputs": [],
   "source": [
    "def plotVelProfile(figure, dataDict, xloc):\n",
    "    \"\"\"\n",
    "    Arguments\n",
    "    ---------\n",
    "    velProfileDict\n",
    "    xloc\n",
    "    \"\"\"\n",
    "    velProfileDict = getVelProfileDict(dataDict, xloc)\n",
    "    \n",
    "    exactSolution = {\n",
    "        \"yloc\" : numpy.linspace(-.5,.5,20),\n",
    "        \"velx\" : exactVelProfile(numpy.linspace(-.5,.5,20)),\n",
    "    }\n",
    "    \n",
    "    velProfileDict.update({\"Exact\" : exactSolution})\n",
    "    \n",
    "    # Create a figure object and set styling font/text options. Request latex\n",
    "    pyplot.rc(\"font\", family=\"serif\", size=15, weight=\"bold\")\n",
    "    pyplot.rc(\"axes\", labelweight=\"bold\", titleweight=\"bold\")\n",
    "    pyplot.rc(\"text\", usetex=True)\n",
    "\n",
    "    # Set marker and linestyle list\n",
    "    marker = itertools.cycle((\"o\", \"s\", \"d\", \".\", \"*\"))\n",
    "    linestyle = itertools.cycle((\"-\", \"--\", \"-.\"))\n",
    "\n",
    "    # create a subfigure object\n",
    "    ax = figure.add_subplot()\n",
    "\n",
    "    # Loop over result list and extract invidual values from slices\n",
    "    for velProfile in list(velProfileDict.values()):\n",
    "\n",
    "        # Do the actual plot cycle through marker and linestyles defined earlier\n",
    "        ax.plot(\n",
    "        velProfile[\"velx\"] / numpy.max(velProfile[\"velx\"]),\n",
    "        velProfile[\"yloc\"],\n",
    "        # marker=next(marker),\n",
    "        # markevery=[0] + [*range(1, len(profile_loc) - 1, 10)] + [len(profile_loc) - 1],\n",
    "        # markersize=5,\n",
    "        linestyle=next(linestyle),\n",
    "        )\n",
    "\n",
    "    # Ticks and limits for x and y direction\n",
    "    ax.set_xticks([0.0, 0.5, 1.0])\n",
    "    ax.set_yticks([-0.5, 0.0, 0.5])\n",
    "\n",
    "    # Set labels, title, and legend\n",
    "    ax.set_xlabel(r\"$u_1(x_2)/u_{1_{max}}$\")\n",
    "    ax.set_ylabel(r\"$x_2/l_0$\")\n",
    "    ax.set_title(r\"$x_1/l_0={0}$\".format(xloc))\n",
    "    ax.legend(list(velProfileDict.keys()))\n",
    "\n",
    "    # Figure layout\n",
    "    pyplot.tight_layout()"
   ]
  },
  {
   "cell_type": "code",
   "execution_count": 8,
   "id": "expressed-chess",
   "metadata": {},
   "outputs": [],
   "source": [
    "def getVelProfileDict(dataDict, xloc):\n",
    "    \"\"\"\n",
    "    Arguments\n",
    "    ---------\n",
    "    dataDict\n",
    "    xloc\n",
    "    \n",
    "    Returns\n",
    "    -------\n",
    "    velProfileDict\n",
    "    \"\"\"\n",
    "    velProfileDict = {}\n",
    "    eps = 1e-12\n",
    "    \n",
    "    for dataKey, dataSet in dataDict.items():\n",
    "\n",
    "        dataSlice = boxkit.create_slice(dataSet, xmin=xloc-eps, xmax=xloc-eps)\n",
    "        \n",
    "        velx = numpy.array([])\n",
    "        yloc = numpy.array([])\n",
    "        \n",
    "        for block in dataSlice.blocklist:\n",
    "            # Get xindex corresponding to xloc. zindex is 0\n",
    "            xindex = (numpy.abs(block.xrange(\"center\") - xloc)).argmin()\n",
    "            zindex = 0\n",
    "\n",
    "            # Extract and append velocity and location values in y-direction\n",
    "            yloc = numpy.append(yloc, block.yrange(\"center\"))\n",
    "            velx = numpy.append(velx, block[\"velx\"][zindex, :, xindex])\n",
    "        \n",
    "        tempDict = {'yloc' : yloc, 'velx' : velx}\n",
    "        velProfileDict.update({dataKey : tempDict})\n",
    "        \n",
    "    return velProfileDict"
   ]
  },
  {
   "cell_type": "code",
   "execution_count": 9,
   "id": "invalid-nightlife",
   "metadata": {},
   "outputs": [],
   "source": [
    "def exactVelProfile(yloc):\n",
    "    \"\"\"\n",
    "    Arguments\n",
    "    ---------\n",
    "    yloc : array of y locations\n",
    "    \"\"\"\n",
    "    return 1 - (2.0 * yloc) ** 2"
   ]
  },
  {
   "cell_type": "code",
   "execution_count": 16,
   "id": "hungarian-provincial",
   "metadata": {},
   "outputs": [
    {
     "data": {
      "image/png": "[encoded data removed]",
      "text/plain": [
       "<Figure size 600x400 with 1 Axes>"
      ]
     },
     "metadata": {
      "needs_background": "light"
     },
     "output_type": "display_data"
    }
   ],
   "source": [
    "figure = pyplot.figure(figsize=(6, 4), dpi=100)\n",
    "plotVelProfile(figure, dataDict, 11)"
   ]
  }
 ],
 "metadata": {
  "kernelspec": {
   "display_name": "Python 3",
   "language": "python",
   "name": "python3"
  },
  "language_info": {
   "codemirror_mode": {
    "name": "ipython",
    "version": 3
   },
   "file_extension": ".py",
   "mimetype": "text/x-python",
   "name": "python",
   "nbconvert_exporter": "python",
   "pygments_lexer": "ipython3",
   "version": "3.8.10"
  }
 },
 "nbformat": 4,
 "nbformat_minor": 5
}
