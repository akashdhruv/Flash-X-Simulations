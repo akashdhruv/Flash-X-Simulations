{
 "cells": [
  {
   "cell_type": "code",
   "execution_count": 1,
   "id": "3427de96",
   "metadata": {},
   "outputs": [],
   "source": [
    "import numpy\n",
    "import matplotlib.pyplot as pyplot\n",
    "from module.geom2D import Elem, CreateFlashH5"
   ]
  },
  {
   "cell_type": "code",
   "execution_count": 2,
   "id": "3249f595",
   "metadata": {},
   "outputs": [],
   "source": [
    "ncircle = 100\n",
    "theta = numpy.linspace(numpy.pi+numpy.pi/4, 2*numpy.pi-numpy.pi/4, ncircle)\n",
    "xcircle = 0.5*numpy.cos(theta)\n",
    "ycircle = 0.5*numpy.sin(theta)\n",
    "\n",
    "xcircle0, ycircle0 = xcircle - 4, ycircle\n",
    "xcircle1, ycircle1 = xcircle - 3.25, ycircle\n",
    "xcircle2, ycircle2 = xcircle - 2.15, ycircle\n",
    "xcircle3, ycircle3 = xcircle - 1.05, ycircle\n",
    "xcircle4, ycircle4 = xcircle, ycircle\n",
    "xcircle5, ycircle5 = xcircle + 1.05, ycircle\n",
    "xcircle6, ycircle6 = xcircle + 2.15, ycircle\n",
    "xcircle7, ycircle7 = xcircle + 3.25, ycircle\n",
    "xcircle8, ycircle8 = xcircle + 4, ycircle\n",
    "\n",
    "nline = 20\n",
    "\n",
    "xline0 = numpy.linspace(-4,xcircle1[0],nline)[1:]\n",
    "yline0 = numpy.linspace(ycircle0[-1],ycircle0[-1],nline)[1:]\n",
    "\n",
    "xline1 = numpy.linspace(xcircle1[-1],xcircle2[0],nline)[1:-1]\n",
    "yline1 = numpy.linspace(ycircle1[-1],ycircle1[-1],nline)[1:-1]\n",
    "\n",
    "xline2 = numpy.linspace(xcircle2[-1],xcircle3[0],nline)[1:-1]\n",
    "yline2 = numpy.linspace(ycircle2[-1],ycircle2[-1],nline)[1:-1]\n",
    "\n",
    "xline3 = numpy.linspace(xcircle3[-1],xcircle4[0],nline)[1:-1]\n",
    "yline3 = numpy.linspace(ycircle3[-1],ycircle3[-1],nline)[1:-1]\n",
    "\n",
    "xline4 = numpy.linspace(xcircle4[-1],xcircle5[0],nline)[1:-1]\n",
    "yline4 = numpy.linspace(ycircle4[-1],ycircle4[-1],nline)[1:-1]\n",
    "\n",
    "xline5 = numpy.linspace(xcircle5[-1],xcircle6[0],nline)[1:-1]\n",
    "yline5 = numpy.linspace(ycircle5[-1],ycircle5[-1],nline)[1:-1]\n",
    "\n",
    "xline6 = numpy.linspace(xcircle6[-1],xcircle7[0],nline)[1:-1]\n",
    "yline6 = numpy.linspace(ycircle6[-1],ycircle6[-1],nline)[1:-1]\n",
    "\n",
    "xline7 = numpy.linspace(xcircle7[-1],4,nline)[1:]\n",
    "yline7 = numpy.linspace(ycircle7[-1],ycircle7[-1],nline)[1:]\n",
    "\n",
    "nline = 30\n",
    "xline8 = numpy.linspace(4,4,nline)[1:]\n",
    "yline8 = numpy.linspace(ycircle7[-1],ycircle7[-1] - 0.5,nline)[1:]\n",
    "\n",
    "nline = 150\n",
    "xline9 = numpy.linspace(4, -4, nline)[1:]\n",
    "yline9 = numpy.linspace(ycircle7[-1] - 0.5, ycircle7[-1] - 0.5, nline)[1:]\n",
    "\n",
    "nline = 30\n",
    "xline10 = numpy.linspace(-4, -4, nline)[1:]\n",
    "yline10 = numpy.linspace(ycircle7[-1] - 0.5, ycircle0[-1], nline)[1:]\n",
    "\n",
    "xbody = numpy.concatenate([xcircle1, xline1, xcircle2, xline2, xcircle3, xline3, \n",
    "                           xcircle4, xline4, xcircle5, xline5, xcircle6, xline6, \n",
    "                           xcircle7, xline7, xline8, xline9, xline10, xline0])\n",
    "\n",
    "ybody = numpy.concatenate([ycircle1, yline1, ycircle2, yline2, ycircle3, yline3,\n",
    "                           ycircle4, yline4, ycircle5, yline5, ycircle6, yline6, \n",
    "                           ycircle7, yline7, yline8, yline9, yline10, yline0])\n",
    "\n",
    "xbody = numpy.flip(xbody)\n",
    "ybody = numpy.flip(ybody)\n",
    "\n",
    "nbody = len(xbody)\n",
    "\n",
    "elems = []\n",
    "\n",
    "for i in range(nbody-1):\n",
    "    elems.append(Elem([xbody[i+1], ybody[i+1]], \n",
    "                      [xbody[i], ybody[i]]))"
   ]
  },
  {
   "cell_type": "code",
   "execution_count": 3,
   "id": "ac55f939",
   "metadata": {},
   "outputs": [
    {
     "data": {
      "image/png": "[encoded data removed]",
      "text/plain": [
       "<Figure size 640x480 with 1 Axes>"
      ]
     },
     "metadata": {},
     "output_type": "display_data"
    }
   ],
   "source": [
    "pyplot.figure()\n",
    "for elem in elems:\n",
    "    elem.move([0,1])\n",
    "    pyplot.plot([elem.pA[0], elem.pB[0]],[elem.pA[1], elem.pB[1]],'k')\n",
    "    pyplot.scatter(elem.center[0], elem.center[1], color='k', marker='.')\n",
    "    #pyplot.quiver(elem.center[0], elem.center[1], elem.normal[0], elem.normal[1], scale=15, color='b')\n",
    "    pyplot.axis('equal')\n",
    "    #pyplot.xlim([-4, 4])\n",
    "    #pyplot.ylim([-0.2, 2])"
   ]
  },
  {
   "cell_type": "code",
   "execution_count": 4,
   "id": "aa993bfb",
   "metadata": {},
   "outputs": [],
   "source": [
    "CreateFlashH5(\"../../simulation/CarbonCapture/example2D/grooved_hdf5_ibd_0001\", elems)"
   ]
  }
 ],
 "metadata": {
  "kernelspec": {
   "display_name": "Python 3 (ipykernel)",
   "language": "python",
   "name": "python3"
  },
  "language_info": {
   "codemirror_mode": {
    "name": "ipython",
    "version": 3
   },
   "file_extension": ".py",
   "mimetype": "text/x-python",
   "name": "python",
   "nbconvert_exporter": "python",
   "pygments_lexer": "ipython3",
   "version": "3.11.4"
  }
 },
 "nbformat": 4,
 "nbformat_minor": 5
}
